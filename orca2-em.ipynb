{
 "cells": [
  {
   "cell_type": "markdown",
   "id": "89e0e03f",
   "metadata": {},
   "source": [
    "# Execution of Orca2 with Ollama to Entity Resolution of Abt-Buy"
   ]
  },
  {
   "cell_type": "markdown",
   "id": "76dfbf2e",
   "metadata": {},
   "source": [
    "## Imports and Parameters"
   ]
  },
  {
   "cell_type": "code",
   "execution_count": 1,
   "id": "9a68031a",
   "metadata": {},
   "outputs": [],
   "source": [
    "from datetime import datetime\n",
    "from ollama import chat\n",
    "from ollama import ChatResponse\n",
    "from sklearn.metrics import precision_score, recall_score, f1_score, classification_report\n",
    "from tqdm.notebook import tqdm\n",
    "import numpy as np\n",
    "import pandas as pd"
   ]
  },
  {
   "cell_type": "code",
   "execution_count": 2,
   "id": "75553caf",
   "metadata": {},
   "outputs": [],
   "source": [
    "model_name = 'orca2-em'\n",
    "dataset_file = 'test'"
   ]
  },
  {
   "cell_type": "markdown",
   "id": "cc586843",
   "metadata": {},
   "source": [
    "## Load Files"
   ]
  },
  {
   "cell_type": "code",
   "execution_count": 3,
   "id": "06e9d5b9",
   "metadata": {},
   "outputs": [],
   "source": [
    "tableA = pd.read_csv('./abt-buy/tableA.csv', index_col=['id'])\n",
    "tableB = pd.read_csv('./abt-buy/tableB.csv', index_col=['id'])\n",
    "products_match = pd.read_csv(f'./abt-buy/{dataset_file}.csv')"
   ]
  },
  {
   "cell_type": "code",
   "execution_count": 4,
   "id": "f25f81f9",
   "metadata": {},
   "outputs": [
    {
     "data": {
      "text/html": [
       "<div>\n",
       "<style scoped>\n",
       "    .dataframe tbody tr th:only-of-type {\n",
       "        vertical-align: middle;\n",
       "    }\n",
       "\n",
       "    .dataframe tbody tr th {\n",
       "        vertical-align: top;\n",
       "    }\n",
       "\n",
       "    .dataframe thead th {\n",
       "        text-align: right;\n",
       "    }\n",
       "</style>\n",
       "<table border=\"1\" class=\"dataframe\">\n",
       "  <thead>\n",
       "    <tr style=\"text-align: right;\">\n",
       "      <th></th>\n",
       "      <th>name</th>\n",
       "      <th>description</th>\n",
       "      <th>price</th>\n",
       "    </tr>\n",
       "    <tr>\n",
       "      <th>id</th>\n",
       "      <th></th>\n",
       "      <th></th>\n",
       "      <th></th>\n",
       "    </tr>\n",
       "  </thead>\n",
       "  <tbody>\n",
       "    <tr>\n",
       "      <th>0</th>\n",
       "      <td>sony turntable pslx350h</td>\n",
       "      <td>sony turntable pslx350h belt drive system 33-1...</td>\n",
       "      <td>NaN</td>\n",
       "    </tr>\n",
       "    <tr>\n",
       "      <th>1</th>\n",
       "      <td>bose acoustimass 5 series iii speaker system a...</td>\n",
       "      <td>bose acoustimass 5 series iii speaker system a...</td>\n",
       "      <td>399.0</td>\n",
       "    </tr>\n",
       "  </tbody>\n",
       "</table>\n",
       "</div>"
      ],
      "text/plain": [
       "                                                 name  \\\n",
       "id                                                      \n",
       "0                             sony turntable pslx350h   \n",
       "1   bose acoustimass 5 series iii speaker system a...   \n",
       "\n",
       "                                          description  price  \n",
       "id                                                            \n",
       "0   sony turntable pslx350h belt drive system 33-1...    NaN  \n",
       "1   bose acoustimass 5 series iii speaker system a...  399.0  "
      ]
     },
     "execution_count": 4,
     "metadata": {},
     "output_type": "execute_result"
    }
   ],
   "source": [
    "tableA.head(2)"
   ]
  },
  {
   "cell_type": "code",
   "execution_count": 5,
   "id": "bd0bed6a",
   "metadata": {},
   "outputs": [
    {
     "data": {
      "text/html": [
       "<div>\n",
       "<style scoped>\n",
       "    .dataframe tbody tr th:only-of-type {\n",
       "        vertical-align: middle;\n",
       "    }\n",
       "\n",
       "    .dataframe tbody tr th {\n",
       "        vertical-align: top;\n",
       "    }\n",
       "\n",
       "    .dataframe thead th {\n",
       "        text-align: right;\n",
       "    }\n",
       "</style>\n",
       "<table border=\"1\" class=\"dataframe\">\n",
       "  <thead>\n",
       "    <tr style=\"text-align: right;\">\n",
       "      <th></th>\n",
       "      <th>name</th>\n",
       "      <th>description</th>\n",
       "      <th>price</th>\n",
       "    </tr>\n",
       "    <tr>\n",
       "      <th>id</th>\n",
       "      <th></th>\n",
       "      <th></th>\n",
       "      <th></th>\n",
       "    </tr>\n",
       "  </thead>\n",
       "  <tbody>\n",
       "    <tr>\n",
       "      <th>0</th>\n",
       "      <td>linksys etherfast ezxs88w ethernet switch ezxs88w</td>\n",
       "      <td>linksys etherfast 8-port 10/100 switch ( new/w...</td>\n",
       "      <td>NaN</td>\n",
       "    </tr>\n",
       "    <tr>\n",
       "      <th>1</th>\n",
       "      <td>linksys etherfast ezxs55w ethernet switch</td>\n",
       "      <td>5 x 10/100base-tx lan</td>\n",
       "      <td>NaN</td>\n",
       "    </tr>\n",
       "  </tbody>\n",
       "</table>\n",
       "</div>"
      ],
      "text/plain": [
       "                                                 name  \\\n",
       "id                                                      \n",
       "0   linksys etherfast ezxs88w ethernet switch ezxs88w   \n",
       "1           linksys etherfast ezxs55w ethernet switch   \n",
       "\n",
       "                                          description  price  \n",
       "id                                                            \n",
       "0   linksys etherfast 8-port 10/100 switch ( new/w...    NaN  \n",
       "1                               5 x 10/100base-tx lan    NaN  "
      ]
     },
     "execution_count": 5,
     "metadata": {},
     "output_type": "execute_result"
    }
   ],
   "source": [
    "tableB.head(2)"
   ]
  },
  {
   "cell_type": "code",
   "execution_count": 6,
   "id": "8c6113ba",
   "metadata": {},
   "outputs": [
    {
     "data": {
      "text/html": [
       "<div>\n",
       "<style scoped>\n",
       "    .dataframe tbody tr th:only-of-type {\n",
       "        vertical-align: middle;\n",
       "    }\n",
       "\n",
       "    .dataframe tbody tr th {\n",
       "        vertical-align: top;\n",
       "    }\n",
       "\n",
       "    .dataframe thead th {\n",
       "        text-align: right;\n",
       "    }\n",
       "</style>\n",
       "<table border=\"1\" class=\"dataframe\">\n",
       "  <thead>\n",
       "    <tr style=\"text-align: right;\">\n",
       "      <th></th>\n",
       "      <th>tableA</th>\n",
       "      <th>tableB</th>\n",
       "      <th>label</th>\n",
       "    </tr>\n",
       "  </thead>\n",
       "  <tbody>\n",
       "    <tr>\n",
       "      <th>0</th>\n",
       "      <td>445</td>\n",
       "      <td>910</td>\n",
       "      <td>0</td>\n",
       "    </tr>\n",
       "    <tr>\n",
       "      <th>1</th>\n",
       "      <td>719</td>\n",
       "      <td>812</td>\n",
       "      <td>0</td>\n",
       "    </tr>\n",
       "  </tbody>\n",
       "</table>\n",
       "</div>"
      ],
      "text/plain": [
       "   tableA  tableB  label\n",
       "0     445     910      0\n",
       "1     719     812      0"
      ]
     },
     "execution_count": 6,
     "metadata": {},
     "output_type": "execute_result"
    }
   ],
   "source": [
    "products_match.head(2)"
   ]
  },
  {
   "cell_type": "markdown",
   "id": "2e81dcc4",
   "metadata": {},
   "source": [
    "## Create Testset"
   ]
  },
  {
   "cell_type": "code",
   "execution_count": 7,
   "id": "25749a75",
   "metadata": {},
   "outputs": [
    {
     "data": {
      "text/html": [
       "<div>\n",
       "<style scoped>\n",
       "    .dataframe tbody tr th:only-of-type {\n",
       "        vertical-align: middle;\n",
       "    }\n",
       "\n",
       "    .dataframe tbody tr th {\n",
       "        vertical-align: top;\n",
       "    }\n",
       "\n",
       "    .dataframe thead th {\n",
       "        text-align: right;\n",
       "    }\n",
       "</style>\n",
       "<table border=\"1\" class=\"dataframe\">\n",
       "  <thead>\n",
       "    <tr style=\"text-align: right;\">\n",
       "      <th></th>\n",
       "      <th>tableA</th>\n",
       "      <th>tableB</th>\n",
       "      <th>label</th>\n",
       "      <th>prediction</th>\n",
       "    </tr>\n",
       "  </thead>\n",
       "  <tbody>\n",
       "  </tbody>\n",
       "</table>\n",
       "</div>"
      ],
      "text/plain": [
       "Empty DataFrame\n",
       "Columns: [tableA, tableB, label, prediction]\n",
       "Index: []"
      ]
     },
     "execution_count": 7,
     "metadata": {},
     "output_type": "execute_result"
    }
   ],
   "source": [
    "dataset = pd.DataFrame(columns=['tableA', 'tableB', 'label', 'prediction'])\n",
    "dataset"
   ]
  },
  {
   "cell_type": "code",
   "execution_count": null,
   "id": "915ecb25",
   "metadata": {},
   "outputs": [],
   "source": [
    "column_tableA = []\n",
    "column_tableB = []\n",
    "column_label = []\n",
    "\n",
    "for _, row in tqdm(products_match.iterrows(), total=len(products_match), desc='rows'):\n",
    "    product_tableA_row = tableA.loc[row['tableA']]\n",
    "    product_tableA = f\"{product_tableA_row['name']} - {product_tableA_row['description']}\"\n",
    "\n",
    "    product_tableB_row = tableB.loc[row['tableB']]\n",
    "    product_tableB = f\"{product_tableB_row['name']} - {product_tableB_row['description']}\"\n",
    "\n",
    "    column_tableA.append(product_tableA)\n",
    "    column_tableB.append(product_tableB)\n",
    "    column_label.append(row['label'])\n",
    "\n",
    "dataset['tableA'] = column_tableA\n",
    "dataset['tableB'] = column_tableB\n",
    "dataset['label'] = column_label"
   ]
  },
  {
   "cell_type": "code",
   "execution_count": 9,
   "id": "40a2d01c",
   "metadata": {},
   "outputs": [
    {
     "data": {
      "text/html": [
       "<div>\n",
       "<style scoped>\n",
       "    .dataframe tbody tr th:only-of-type {\n",
       "        vertical-align: middle;\n",
       "    }\n",
       "\n",
       "    .dataframe tbody tr th {\n",
       "        vertical-align: top;\n",
       "    }\n",
       "\n",
       "    .dataframe thead th {\n",
       "        text-align: right;\n",
       "    }\n",
       "</style>\n",
       "<table border=\"1\" class=\"dataframe\">\n",
       "  <thead>\n",
       "    <tr style=\"text-align: right;\">\n",
       "      <th></th>\n",
       "      <th>tableA</th>\n",
       "      <th>tableB</th>\n",
       "      <th>label</th>\n",
       "      <th>prediction</th>\n",
       "    </tr>\n",
       "  </thead>\n",
       "  <tbody>\n",
       "    <tr>\n",
       "      <th>0</th>\n",
       "      <td>sony pink cyber-shot 7.2 megapixel digital cam...</td>\n",
       "      <td>olympus fe-360 digital camera pink 226540 - 8 ...</td>\n",
       "      <td>0</td>\n",
       "      <td>NaN</td>\n",
       "    </tr>\n",
       "    <tr>\n",
       "      <th>1</th>\n",
       "      <td>lg 2.0 cu . ft. over-the-range white microwave...</td>\n",
       "      <td>maytag 2.0 cu . ft. over-the-range microwave o...</td>\n",
       "      <td>0</td>\n",
       "      <td>NaN</td>\n",
       "    </tr>\n",
       "  </tbody>\n",
       "</table>\n",
       "</div>"
      ],
      "text/plain": [
       "                                              tableA  \\\n",
       "0  sony pink cyber-shot 7.2 megapixel digital cam...   \n",
       "1  lg 2.0 cu . ft. over-the-range white microwave...   \n",
       "\n",
       "                                              tableB  label prediction  \n",
       "0  olympus fe-360 digital camera pink 226540 - 8 ...      0        NaN  \n",
       "1  maytag 2.0 cu . ft. over-the-range microwave o...      0        NaN  "
      ]
     },
     "execution_count": 9,
     "metadata": {},
     "output_type": "execute_result"
    }
   ],
   "source": [
    "dataset.head(2)"
   ]
  },
  {
   "cell_type": "markdown",
   "id": "827174fc",
   "metadata": {},
   "source": [
    "## Model Execution"
   ]
  },
  {
   "cell_type": "code",
   "execution_count": 10,
   "id": "62ff5ba6",
   "metadata": {},
   "outputs": [],
   "source": [
    "metrics = {\n",
    "    'all': {\n",
    "        'precision': [],\n",
    "        'recall': [],\n",
    "        'f1-score': [],\n",
    "    },\n",
    "    'negative': {\n",
    "        'precision': [],\n",
    "        'recall': [],\n",
    "        'f1-score': [],\n",
    "    },\n",
    "    'positive': {\n",
    "        'precision': [],\n",
    "        'recall': [],\n",
    "        'f1-score': [],\n",
    "    },\n",
    "    'runtime': [],\n",
    "}"
   ]
  },
  {
   "cell_type": "code",
   "execution_count": 11,
   "id": "062327fd",
   "metadata": {},
   "outputs": [],
   "source": [
    "executions_quantity = 10"
   ]
  },
  {
   "cell_type": "code",
   "execution_count": null,
   "id": "867f4489",
   "metadata": {},
   "outputs": [],
   "source": [
    "for i in tqdm(range(executions_quantity), total=executions_quantity, desc='executions'):\n",
    "    responses_column = []\n",
    "\n",
    "    start_time = datetime.now().timestamp()\n",
    "\n",
    "    for _, row in tqdm(dataset.iterrows(), total=len(products_match), desc='rows'):\n",
    "        product_tableA = row['tableA']\n",
    "        product_tableB = row['tableB']\n",
    "\n",
    "        content = f'record 1: {product_tableA} record 2: {product_tableB}'\n",
    "\n",
    "        response: ChatResponse = chat(model=model_name, messages=[\n",
    "            {\n",
    "                'role': 'user',\n",
    "                'content': content,\n",
    "            },\n",
    "        ])\n",
    "\n",
    "        responses_column.append(response.message.content)\n",
    "\n",
    "    end_time = datetime.now().timestamp()\n",
    "\n",
    "    prediction_value = {\n",
    "        'False': 0,\n",
    "        'True': 1,\n",
    "    }\n",
    "\n",
    "    predictions = []\n",
    "\n",
    "    errors = 0\n",
    "\n",
    "    for row in responses_column:\n",
    "        row = row.replace('. system', '').replace('.', '').replace('system', '')\n",
    "        try:\n",
    "            predictions.append(prediction_value[row])\n",
    "        except KeyError:\n",
    "            # print(row)\n",
    "            errors += 1\n",
    "            predictions.append(0)\n",
    "\n",
    "    # print('errors:', errors)\n",
    "\n",
    "    # for i in range(10):\n",
    "    #     print(responses_column[i])\n",
    "\n",
    "    dataset['prediction'] = predictions\n",
    "\n",
    "    metrics['all']['precision'].append(precision_score(dataset['label'], dataset['prediction'], average='weighted'))\n",
    "    metrics['all']['recall'].append(recall_score(dataset['label'], dataset['prediction'], average='weighted'))\n",
    "    metrics['all']['f1-score'].append(f1_score(dataset['label'], dataset['prediction'], average='weighted'))\n",
    "\n",
    "    metrics['negative']['precision'].append(precision_score(dataset['label'], dataset['prediction'], pos_label=0))\n",
    "    metrics['negative']['recall'].append(recall_score(dataset['label'], dataset['prediction'], pos_label=0))\n",
    "    metrics['negative']['f1-score'].append(f1_score(dataset['label'], dataset['prediction'], pos_label=0))\n",
    "\n",
    "    metrics['positive']['precision'].append(precision_score(dataset['label'], dataset['prediction']))\n",
    "    metrics['positive']['recall'].append(recall_score(dataset['label'], dataset['prediction']))\n",
    "    metrics['positive']['f1-score'].append(f1_score(dataset['label'], dataset['prediction']))\n",
    "\n",
    "    metrics['runtime'].append(end_time-start_time)"
   ]
  },
  {
   "cell_type": "markdown",
   "id": "203089c8",
   "metadata": {},
   "source": [
    "## Average for All Executions"
   ]
  },
  {
   "cell_type": "code",
   "execution_count": 13,
   "id": "d37b619b",
   "metadata": {},
   "outputs": [
    {
     "name": "stdout",
     "output_type": "stream",
     "text": [
      "Average Results for 10 executions:\n",
      "\n",
      "   Negative:\n",
      "      Precision: 93.77 %\n",
      "      Recall: 97.78 %\n",
      "      F1-Score: 95.73 %\n",
      "\n",
      "   Positive:\n",
      "      Precision: 71.43 %\n",
      "      Recall: 46.12 %\n",
      "      F1-Score: 56.05 %\n",
      "\n",
      "   All Labels:\n",
      "      Precision: 91.37 %\n",
      "      Recall: 92.22 %\n",
      "      F1-Score: 91.47 %\n",
      "\n",
      "   Runtime: 17.0 minutes\n"
     ]
    }
   ],
   "source": [
    "print(f\"Average Results for 10 executions:\")\n",
    "print(f\"\\n   Negative:\")\n",
    "print(f\"      Precision: {np.mean(metrics['negative']['precision'])*100:.2f} %\")\n",
    "print(f\"      Recall: {np.mean(metrics['negative']['recall'])*100:.2f} %\")\n",
    "print(f\"      F1-Score: {np.mean(metrics['negative']['f1-score'])*100:.2f} %\")\n",
    "print(f\"\\n   Positive:\")\n",
    "print(f\"      Precision: {np.mean(metrics['positive']['precision'])*100:.2f} %\")\n",
    "print(f\"      Recall: {np.mean(metrics['positive']['recall'])*100:.2f} %\")\n",
    "print(f\"      F1-Score: {np.mean(metrics['positive']['f1-score'])*100:.2f} %\")\n",
    "print(f\"\\n   All Labels:\")\n",
    "print(f\"      Precision: {np.mean(metrics['all']['precision'])*100:.2f} %\")\n",
    "print(f\"      Recall: {np.mean(metrics['all']['recall'])*100:.2f} %\")\n",
    "print(f\"      F1-Score: {np.mean(metrics['all']['f1-score'])*100:.2f} %\")\n",
    "print(f'\\n   Runtime: {np.mean(metrics[\"runtime\"])/60:.1f} minutes')"
   ]
  }
 ],
 "metadata": {
  "kernelspec": {
   "display_name": "env",
   "language": "python",
   "name": "python3"
  },
  "language_info": {
   "codemirror_mode": {
    "name": "ipython",
    "version": 3
   },
   "file_extension": ".py",
   "mimetype": "text/x-python",
   "name": "python",
   "nbconvert_exporter": "python",
   "pygments_lexer": "ipython3",
   "version": "3.12.0"
  }
 },
 "nbformat": 4,
 "nbformat_minor": 5
}
